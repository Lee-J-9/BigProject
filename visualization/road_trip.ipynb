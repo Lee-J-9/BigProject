{
 "cells": [
  {
   "cell_type": "code",
   "execution_count": null,
   "metadata": {
    "vscode": {
     "languageId": "plaintext"
    }
   },
   "outputs": [],
   "source": [
    "import pandas as pd\n",
    "import geopandas as gpd\n",
    "import networkx as nx\n",
    "from shapely.geometry import LineString\n",
    "\n",
    "# 파일 경로 설정\n",
    "csv_path = \"./testing/광진구_clusters_route 1.csv\"\n",
    "geojson_path = \"./testing/road.geojson\"\n",
    "\n",
    "# CSV 데이터 로드\n",
    "df = pd.read_csv(csv_path)\n",
    "\n",
    "# 도로 네트워크 로드\n",
    "gdf_roads = gpd.read_file(geojson_path)\n",
    "\n",
    "# 도로 네트워크 그래프 생성\n",
    "G = nx.Graph()\n",
    "\n",
    "# GeoJSON에서 도로 데이터 추가 (LineString을 사용하여 네트워크 구성)\n",
    "for _, row in gdf_roads.iterrows():\n",
    "    if isinstance(row.geometry, LineString):\n",
    "        coords = list(row.geometry.coords)\n",
    "        for i in range(len(coords) - 1):\n",
    "            G.add_edge(coords[i], coords[i + 1], weight=row.geometry.length)\n",
    "\n",
    "# 0번 클러스터만 필터링\n",
    "df_cluster_0 = df[df['cluster'] == 0].sort_values(by='order')\n",
    "\n",
    "# 클러스터 0의 좌표 리스트 (lat, lon 순서)\n",
    "coordinates = list(zip(df_cluster_0['latitude'], df_cluster_0['longitude']))\n",
    "\n",
    "# 도로 위의 가장 가까운 노드 찾기\n",
    "nodes = [min(G.nodes, key=lambda node: (node[0] - lon)**2 + (node[1] - lat)**2) for lat, lon in coordinates]\n",
    "\n",
    "# 최적 경로 찾기 (순서대로 경로 연결)\n",
    "route_edges = []\n",
    "for i in range(len(nodes) - 1):\n",
    "    path = nx.shortest_path(G, source=nodes[i], target=nodes[i + 1], weight=\"weight\")\n",
    "    route_edges.extend(list(zip(path[:-1], path[1:])))\n",
    "\n",
    "# 경로 데이터 저장\n",
    "df_route = pd.DataFrame(route_edges, columns=['start_node', 'end_node'])\n",
    "df_route.to_csv(\"cluster_0_route.csv\", index=False)\n"
   ]
  }
 ],
 "metadata": {
  "language_info": {
   "name": "python"
  }
 },
 "nbformat": 4,
 "nbformat_minor": 2
}
