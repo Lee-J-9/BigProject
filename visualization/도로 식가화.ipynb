{
 "cells": [
  {
   "cell_type": "code",
   "execution_count": 2,
   "metadata": {},
   "outputs": [
    {
     "name": "stdout",
     "output_type": "stream",
     "text": [
      "c:\\Users\\User\\Desktop\\빅프로젝트\\BigProject\n"
     ]
    }
   ],
   "source": [
    "import os\n",
    "print(os.getcwd())  # 현재 작업 디렉토리 확인\n"
   ]
  },
  {
   "cell_type": "code",
   "execution_count": null,
   "metadata": {},
   "outputs": [],
   "source": [
    "import pandas as pd\n",
    "import geopandas as gpd\n",
    "import networkx as nx\n",
    "from shapely.geometry import LineString, MultiLineString\n",
    "\n",
    "# 파일 경로 설정\n",
    "csv_path = \"./testing/광진구_clusters_route 1.csv\"\n",
    "geojson_path = \"./testing/road.geojson\"\n",
    "\n",
    "# CSV 데이터 로드\n",
    "df = pd.read_csv(csv_path)\n",
    "\n",
    "# 도로 네트워크 로드\n",
    "gdf_roads = gpd.read_file(geojson_path)\n",
    "\n",
    "# 도로 네트워크 그래프 생성\n",
    "G = nx.Graph()\n",
    "\n",
    "# GeoJSON에서 도로 데이터 추가 (MultiLineString 포함)\n",
    "for _, row in gdf_roads.iterrows():\n",
    "    geom = row.geometry\n",
    "    if isinstance(geom, MultiLineString):\n",
    "        for line in geom.geoms:\n",
    "            coords = list(line.coords)\n",
    "            for i in range(len(coords) - 1):\n",
    "                G.add_node(coords[i], pos=coords[i])\n",
    "                G.add_node(coords[i + 1], pos=coords[i + 1])\n",
    "                G.add_edge(coords[i], coords[i + 1], weight=line.length)\n",
    "    elif isinstance(geom, LineString):\n",
    "        coords = list(geom.coords)\n",
    "        for i in range(len(coords) - 1):\n",
    "            G.add_node(coords[i], pos=coords[i])\n",
    "            G.add_node(coords[i + 1], pos=coords[i + 1])\n",
    "            G.add_edge(coords[i], coords[i + 1], weight=geom.length)\n",
    "\n",
    "# 노드 개수 확인\n",
    "if len(G.nodes) == 0:\n",
    "    raise ValueError(\"도로 네트워크가 생성되지 않았습니다. road.geojson 데이터를 확인하세요.\")\n",
    "\n",
    "# 0번 클러스터만 필터링\n",
    "df_cluster_0 = df[df['cluster'] == 0].sort_values(by='order')\n",
    "\n",
    "# 클러스터 0의 좌표 리스트 (lat, lon 순서)\n",
    "coordinates = list(zip(df_cluster_0['latitude'], df_cluster_0['longitude']))\n",
    "\n",
    "# 도로 위의 가장 가까운 노드 찾기\n",
    "nodes = []\n",
    "for lat, lon in coordinates:\n",
    "    closest_node = min(G.nodes, key=lambda node: (node[0] - lon)**2 + (node[1] - lat)**2)\n",
    "    nodes.append(closest_node)\n",
    "\n",
    "# 최적 경로 찾기 (도로 네트워크 기반)\n",
    "route_edges = []\n",
    "for i in range(len(nodes) - 1):\n",
    "    path = nx.shortest_path(G, source=nodes[i], target=nodes[i + 1], weight=\"weight\")\n",
    "    edges = [(path[j], path[j + 1]) for j in range(len(path) - 1)]\n",
    "    for edge in edges:\n",
    "        route_edges.append(LineString([edge[0], edge[1]]))\n",
    "\n",
    "# 경로 데이터를 GeoDataFrame으로 변환\n",
    "gdf_route = gpd.GeoDataFrame(geometry=route_edges, crs=gdf_roads.crs)\n",
    "\n",
    "# GeoJSON 파일로 저장\n",
    "gdf_route.to_file(\"cluster_0_route.geojson\", driver=\"GeoJSON\")\n",
    "\n",
    "print(\"GeoJSON 저장 완료: cluster_0_route.geojson\")\n"
   ]
  },
  {
   "cell_type": "code",
   "execution_count": 8,
   "metadata": {},
   "outputs": [
    {
     "name": "stdout",
     "output_type": "stream",
     "text": [
      "HTML 지도 저장 완료: ./road_route_map.html\n"
     ]
    }
   ],
   "source": [
    "import folium\n",
    "import geopandas as gpd\n",
    "\n",
    "# 파일 경로 설정\n",
    "road_geojson = \"./visualization/testing/road.geojson\"\n",
    "route_geojson = \"./visualization/cluster_0_route.geojson\"\n",
    "\n",
    "# 지도 중심 좌표 설정 (서울 광진구 기준)\n",
    "center = [37.54, 127.08]\n",
    "\n",
    "# 지도 생성\n",
    "m = folium.Map(location=center, zoom_start=15)\n",
    "\n",
    "# 도로(road) GeoJSON 추가 (굵기 증가)\n",
    "gdf_roads = gpd.read_file(road_geojson)\n",
    "folium.GeoJson(gdf_roads, name=\"Roads\", style_function=lambda x: {'color': 'gray', 'weight': 3}).add_to(m)\n",
    "\n",
    "# 최적 경로 GeoJSON 추가 (투명도 적용)\n",
    "gdf_route = gpd.read_file(route_geojson)\n",
    "folium.GeoJson(gdf_route, name=\"Optimized Route\", style_function=lambda x: {'color': 'blue', 'weight': 1, 'opacity': 0.3}).add_to(m)\n",
    "\n",
    "# 지도 저장\n",
    "map_path = \"./road_route_map.html\"\n",
    "m.save(map_path)\n",
    "\n",
    "print(f\"HTML 지도 저장 완료: {map_path}\")"
   ]
  }
 ],
 "metadata": {
  "kernelspec": {
   "display_name": "base",
   "language": "python",
   "name": "python3"
  },
  "language_info": {
   "codemirror_mode": {
    "name": "ipython",
    "version": 3
   },
   "file_extension": ".py",
   "mimetype": "text/x-python",
   "name": "python",
   "nbconvert_exporter": "python",
   "pygments_lexer": "ipython3",
   "version": "3.12.4"
  }
 },
 "nbformat": 4,
 "nbformat_minor": 2
}
