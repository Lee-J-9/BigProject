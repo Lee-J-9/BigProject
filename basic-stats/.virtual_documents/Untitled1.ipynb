import numpy as np
import pandas as pd
import matplotlib.pyplot as plt 
import seaborn as sns
stats = pd.read_csv('seoul-basic-stats.csv')
trash_old = pd.read_csv('Trashcans2023.csv')
trash = pd.read_excel('TrashCans.xlsx')
visitor = pd.read_csv('visitor.csv')


stats.head()


drop_cols = ['인구당 쓰레기통', '면적당 쓰레기통','밀도당 쓰레기통','10000명당 쓰레기통']
stats.drop(columns = drop_cols,inplace = True)
stats.rename(columns = {'쓰레기통 대수':'쓰레기통23'},inplace = True)
stats.head()


trash.head()


stats = pd.merge(stats,trash,on = '구')


stats['쓰레기통'] = stats['쓰레기통'].astype(int)


visitor.head()


stats = pd.merge(stats,visitor,on = '구')


stats.head()


stats['인구/쓰레기통'] = stats['인구']/stats['쓰레기통']
stats['면적/쓰레기통'] = stats['면적']/stats['쓰레기통']*1000
stats['인구밀도/쓰레기통'] = stats['인구밀도']/stats['쓰레기통']
stats['일별방문자수/쓰레기통'] = stats['일별방문자수']/stats['쓰레기통']
stats.head()


def graph_bar(x,y):
    import matplotlib.font_manager as fm

# 나눔글꼴 경로 설정
    font_path = 'C:\Windows\Fonts\malgun.ttf'

# 폰트 이름 가져오기
    font_name = fm.FontProperties(fname=font_path).get_name()

# 폰트 설정
    plt.rc('font', family=font_name)
# 출처: https://giveme-happyending.tistory.com/168 [소연의_개발일지:티스토리]

    plt.figure(figsize=(20, 6))
    plt.bar(x, y, alpha=0.7)
    plt.title('Trash Cans per Person')
    plt.xlabel('District')
    plt.ylabel('Trash Cans per Person')
    plt.show()


# graph_bar(x=stats['구'],y=stats['인구/쓰레기통'])


import matplotlib.font_manager as fm

# 나눔글꼴 경로 설정
font_path = 'C:\Windows\Fonts\malgun.ttf'

# 폰트 이름 가져오기
font_name = fm.FontProperties(fname=font_path).get_name()

# 폰트 설정
plt.rc('font', family=font_name)
# 출처: https://giveme-happyending.tistory.com/168 [소연의_개발일지:티스토리]

plt.figure(figsize=(20, 6))
plt.bar(stats['구'],stats['인구/쓰레기통'] alpha=0.7)
plt.title('구 별 쓰레기통 사용 인구')
plt.xlabel('구')
plt.ylabel('쓰레기통 사용 인구')
plt.show()
