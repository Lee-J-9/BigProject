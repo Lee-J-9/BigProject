import pandas as pd 

stats = pd.read_csv('https://raw.githubusercontent.com/Lee-J-9/BigProject/refs/heads/main/basic-stats/stats.csv')
stats
