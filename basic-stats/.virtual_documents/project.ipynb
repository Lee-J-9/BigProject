import numpy as np
import pandas as pd
import matplotlib.pyplot as plt 
import seaborn as sns


pop = pd.read_csv('등록인구_20250106104440.csv')
size = pd.read_csv('행정구역(구별)_20250106104639.csv')
t_can = pd.read_csv('____________.csv')


# 구 별 인원 뽑아내기
pop1 = pop[['동별(2)','2024 3/4.1']].copy()
pop1 = pop1.drop(index = [0,1,2]).reset_index(drop=True)
pop1.columns = ['구','인구 수']
pop1.head()


# 구 별 면적 뽑아내기
size1 = size.iloc[:,[1,2]].copy()
size1 = size1.drop(index = [0,1,2]).reset_index(drop=True)
size1.columns=['구','면적']
size1.head()


# 병합
seoul_stats = pd.merge(pop1,size1, on = '구').reset_index(drop = True)
seoul_stats.rename(columns={'인구 수':'인구'}, inplace = True)


seoul_stats.info
seoul_stats['인구'] = seoul_stats['인구'].astype(int)
seoul_stats['면적'] = seoul_stats['면적'].astype(float)
seoul_stats['인구밀도'] = (seoul_stats['인구'] / seoul_stats['면적']).round(1)
seoul_stats.head()


t_can.head()
seoul_stats = pd.merge(seoul_stats, t_can, left_on = '구',right_on = '자치구명')
seoul_stats = seoul_stats.drop(columns=['자치구명'])



seoul_stats = seoul_stats.sort_values(by='구').reset_index(drop=True)




seoul_stats['인구/쓰레기통'] = seoul_stats['인구'] / seoul_stats['쓰레기통 대수']
seoul_stats['면적/쓰레기통'] = seoul_stats['면적'] / seoul_stats['쓰레기통 대수']
seoul_stats['밀도당 쓰레기통'] = seoul_stats['인구밀도'] / seoul_stats['쓰레기통 대수']
seoul_stats.head()



seoul_stats.drop(columns = '1000명당 쓰레기통',inplace = True)
seoul_stats.head(3)


seoul_stats.to_csv('서울기초통계.csv', index=False, encoding='utf-8-sig')



import matplotlib.font_manager as fm

# 나눔글꼴 경로 설정
font_path = 'C:\Windows\Fonts\malgun.ttf'

# 폰트 이름 가져오기
font_name = fm.FontProperties(fname=font_path).get_name()

# 폰트 설정
plt.rc('font', family=font_name)
# 출처: https://giveme-happyending.tistory.com/168 [소연의_개발일지:티스토리]

plt.figure(figsize=(20, 6))
plt.bar(seoul_stats['구'], seoul_stats['인구/쓰레기통'], color='blue', alpha=0.7)
plt.title('Trash Cans per Person')
plt.xlabel('District')
plt.ylabel('Trash Cans per Person')
plt.show()



plt.figure(figsize=(20, 6))
plt.bar(seoul_stats['구'], seoul_stats['인구당 쓰레기통'], color='blue', alpha=0.7)
plt.title('Trash Cans per Person')
plt.xlabel('District')
plt.ylabel('Trash Cans per Person')
plt.show()



trash = pd.read_excel('TrashCans.xlsx')
trash.head()


f_pop = pd.read_csv('스마트서울 도시데이터 센서(S-DoT) 유동인구 측정 정보.csv')
f_pop.head()
