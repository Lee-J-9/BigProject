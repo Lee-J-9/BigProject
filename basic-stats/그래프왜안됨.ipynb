{
 "cells": [
  {
   "cell_type": "code",
   "execution_count": 1,
   "id": "c3f272c5-d51d-4c56-8506-2b5c6b35efb9",
   "metadata": {},
   "outputs": [],
   "source": [
    "import numpy as np\n",
    "import pandas as pd\n",
    "import matplotlib.pyplot as plt \n",
    "import seaborn as sns\n",
    "stats = pd.read_csv('seoul-basic-stats.csv')\n",
    "trash_old = pd.read_csv('Trashcans2023.csv')\n",
    "trash = pd.read_excel('TrashCans.xlsx')\n",
    "visitor = pd.read_csv('visitor.csv')"
   ]
  },
  {
   "cell_type": "code",
   "execution_count": 2,
   "id": "43d557b8-80ae-468d-8f61-3798d2b8110a",
   "metadata": {},
   "outputs": [
    {
     "data": {
      "text/html": [
       "<div>\n",
       "<style scoped>\n",
       "    .dataframe tbody tr th:only-of-type {\n",
       "        vertical-align: middle;\n",
       "    }\n",
       "\n",
       "    .dataframe tbody tr th {\n",
       "        vertical-align: top;\n",
       "    }\n",
       "\n",
       "    .dataframe thead th {\n",
       "        text-align: right;\n",
       "    }\n",
       "</style>\n",
       "<table border=\"1\" class=\"dataframe\">\n",
       "  <thead>\n",
       "    <tr style=\"text-align: right;\">\n",
       "      <th></th>\n",
       "      <th>구</th>\n",
       "      <th>인구</th>\n",
       "      <th>면적</th>\n",
       "      <th>인구밀도</th>\n",
       "      <th>쓰레기통 대수</th>\n",
       "      <th>인구당 쓰레기통</th>\n",
       "      <th>면적당 쓰레기통</th>\n",
       "      <th>밀도당 쓰레기통</th>\n",
       "      <th>10000명당 쓰레기통</th>\n",
       "    </tr>\n",
       "  </thead>\n",
       "  <tbody>\n",
       "    <tr>\n",
       "      <th>0</th>\n",
       "      <td>강남구</td>\n",
       "      <td>564280</td>\n",
       "      <td>39.50</td>\n",
       "      <td>14285.6</td>\n",
       "      <td>974</td>\n",
       "      <td>0.001726</td>\n",
       "      <td>24.658228</td>\n",
       "      <td>68.180545</td>\n",
       "      <td>17.260934</td>\n",
       "    </tr>\n",
       "    <tr>\n",
       "      <th>1</th>\n",
       "      <td>강동구</td>\n",
       "      <td>469464</td>\n",
       "      <td>24.59</td>\n",
       "      <td>19091.7</td>\n",
       "      <td>52</td>\n",
       "      <td>0.000111</td>\n",
       "      <td>2.114681</td>\n",
       "      <td>2.723697</td>\n",
       "      <td>1.107646</td>\n",
       "    </tr>\n",
       "    <tr>\n",
       "      <th>2</th>\n",
       "      <td>강북구</td>\n",
       "      <td>289678</td>\n",
       "      <td>23.60</td>\n",
       "      <td>12274.5</td>\n",
       "      <td>217</td>\n",
       "      <td>0.000749</td>\n",
       "      <td>9.194915</td>\n",
       "      <td>17.678928</td>\n",
       "      <td>7.491076</td>\n",
       "    </tr>\n",
       "    <tr>\n",
       "      <th>3</th>\n",
       "      <td>강서구</td>\n",
       "      <td>563515</td>\n",
       "      <td>41.45</td>\n",
       "      <td>13595.1</td>\n",
       "      <td>315</td>\n",
       "      <td>0.000559</td>\n",
       "      <td>7.599517</td>\n",
       "      <td>23.170113</td>\n",
       "      <td>5.589913</td>\n",
       "    </tr>\n",
       "    <tr>\n",
       "      <th>4</th>\n",
       "      <td>관악구</td>\n",
       "      <td>496469</td>\n",
       "      <td>29.57</td>\n",
       "      <td>16789.6</td>\n",
       "      <td>108</td>\n",
       "      <td>0.000218</td>\n",
       "      <td>3.652350</td>\n",
       "      <td>6.432553</td>\n",
       "      <td>2.175362</td>\n",
       "    </tr>\n",
       "  </tbody>\n",
       "</table>\n",
       "</div>"
      ],
      "text/plain": [
       "     구      인구     면적     인구밀도  쓰레기통 대수  인구당 쓰레기통   면적당 쓰레기통   밀도당 쓰레기통  \\\n",
       "0  강남구  564280  39.50  14285.6      974  0.001726  24.658228  68.180545   \n",
       "1  강동구  469464  24.59  19091.7       52  0.000111   2.114681   2.723697   \n",
       "2  강북구  289678  23.60  12274.5      217  0.000749   9.194915  17.678928   \n",
       "3  강서구  563515  41.45  13595.1      315  0.000559   7.599517  23.170113   \n",
       "4  관악구  496469  29.57  16789.6      108  0.000218   3.652350   6.432553   \n",
       "\n",
       "   10000명당 쓰레기통  \n",
       "0     17.260934  \n",
       "1      1.107646  \n",
       "2      7.491076  \n",
       "3      5.589913  \n",
       "4      2.175362  "
      ]
     },
     "execution_count": 2,
     "metadata": {},
     "output_type": "execute_result"
    }
   ],
   "source": [
    "stats.head()"
   ]
  },
  {
   "cell_type": "code",
   "execution_count": 3,
   "id": "64b7b4b6-bcb8-4060-8bcf-61f2d09342e0",
   "metadata": {},
   "outputs": [
    {
     "data": {
      "text/html": [
       "<div>\n",
       "<style scoped>\n",
       "    .dataframe tbody tr th:only-of-type {\n",
       "        vertical-align: middle;\n",
       "    }\n",
       "\n",
       "    .dataframe tbody tr th {\n",
       "        vertical-align: top;\n",
       "    }\n",
       "\n",
       "    .dataframe thead th {\n",
       "        text-align: right;\n",
       "    }\n",
       "</style>\n",
       "<table border=\"1\" class=\"dataframe\">\n",
       "  <thead>\n",
       "    <tr style=\"text-align: right;\">\n",
       "      <th></th>\n",
       "      <th>구</th>\n",
       "      <th>인구</th>\n",
       "      <th>면적</th>\n",
       "      <th>인구밀도</th>\n",
       "      <th>쓰레기통23</th>\n",
       "    </tr>\n",
       "  </thead>\n",
       "  <tbody>\n",
       "    <tr>\n",
       "      <th>0</th>\n",
       "      <td>강남구</td>\n",
       "      <td>564280</td>\n",
       "      <td>39.50</td>\n",
       "      <td>14285.6</td>\n",
       "      <td>974</td>\n",
       "    </tr>\n",
       "    <tr>\n",
       "      <th>1</th>\n",
       "      <td>강동구</td>\n",
       "      <td>469464</td>\n",
       "      <td>24.59</td>\n",
       "      <td>19091.7</td>\n",
       "      <td>52</td>\n",
       "    </tr>\n",
       "    <tr>\n",
       "      <th>2</th>\n",
       "      <td>강북구</td>\n",
       "      <td>289678</td>\n",
       "      <td>23.60</td>\n",
       "      <td>12274.5</td>\n",
       "      <td>217</td>\n",
       "    </tr>\n",
       "    <tr>\n",
       "      <th>3</th>\n",
       "      <td>강서구</td>\n",
       "      <td>563515</td>\n",
       "      <td>41.45</td>\n",
       "      <td>13595.1</td>\n",
       "      <td>315</td>\n",
       "    </tr>\n",
       "    <tr>\n",
       "      <th>4</th>\n",
       "      <td>관악구</td>\n",
       "      <td>496469</td>\n",
       "      <td>29.57</td>\n",
       "      <td>16789.6</td>\n",
       "      <td>108</td>\n",
       "    </tr>\n",
       "  </tbody>\n",
       "</table>\n",
       "</div>"
      ],
      "text/plain": [
       "     구      인구     면적     인구밀도  쓰레기통23\n",
       "0  강남구  564280  39.50  14285.6     974\n",
       "1  강동구  469464  24.59  19091.7      52\n",
       "2  강북구  289678  23.60  12274.5     217\n",
       "3  강서구  563515  41.45  13595.1     315\n",
       "4  관악구  496469  29.57  16789.6     108"
      ]
     },
     "execution_count": 3,
     "metadata": {},
     "output_type": "execute_result"
    }
   ],
   "source": [
    "drop_cols = ['인구당 쓰레기통', '면적당 쓰레기통','밀도당 쓰레기통','10000명당 쓰레기통']\n",
    "stats.drop(columns = drop_cols,inplace = True)\n",
    "stats.rename(columns = {'쓰레기통 대수':'쓰레기통23'},inplace = True)\n",
    "stats.head()"
   ]
  },
  {
   "cell_type": "code",
   "execution_count": 4,
   "id": "8f22af64-b6cd-4fb7-8342-0e5aaab93915",
   "metadata": {},
   "outputs": [
    {
     "data": {
      "text/html": [
       "<div>\n",
       "<style scoped>\n",
       "    .dataframe tbody tr th:only-of-type {\n",
       "        vertical-align: middle;\n",
       "    }\n",
       "\n",
       "    .dataframe tbody tr th {\n",
       "        vertical-align: top;\n",
       "    }\n",
       "\n",
       "    .dataframe thead th {\n",
       "        text-align: right;\n",
       "    }\n",
       "</style>\n",
       "<table border=\"1\" class=\"dataframe\">\n",
       "  <thead>\n",
       "    <tr style=\"text-align: right;\">\n",
       "      <th></th>\n",
       "      <th>구</th>\n",
       "      <th>쓰레기통</th>\n",
       "    </tr>\n",
       "  </thead>\n",
       "  <tbody>\n",
       "    <tr>\n",
       "      <th>0</th>\n",
       "      <td>종로구</td>\n",
       "      <td>308.0</td>\n",
       "    </tr>\n",
       "    <tr>\n",
       "      <th>1</th>\n",
       "      <td>중구</td>\n",
       "      <td>196.0</td>\n",
       "    </tr>\n",
       "    <tr>\n",
       "      <th>2</th>\n",
       "      <td>용산구</td>\n",
       "      <td>284.0</td>\n",
       "    </tr>\n",
       "    <tr>\n",
       "      <th>3</th>\n",
       "      <td>성동구</td>\n",
       "      <td>102.0</td>\n",
       "    </tr>\n",
       "    <tr>\n",
       "      <th>4</th>\n",
       "      <td>광진구</td>\n",
       "      <td>118.0</td>\n",
       "    </tr>\n",
       "  </tbody>\n",
       "</table>\n",
       "</div>"
      ],
      "text/plain": [
       "     구   쓰레기통\n",
       "0  종로구  308.0\n",
       "1   중구  196.0\n",
       "2  용산구  284.0\n",
       "3  성동구  102.0\n",
       "4  광진구  118.0"
      ]
     },
     "execution_count": 4,
     "metadata": {},
     "output_type": "execute_result"
    }
   ],
   "source": [
    "trash.head()"
   ]
  },
  {
   "cell_type": "code",
   "execution_count": 5,
   "id": "803bace7-3c31-48fb-95da-baf3bb982a30",
   "metadata": {},
   "outputs": [],
   "source": [
    "stats = pd.merge(stats,trash,on = '구')"
   ]
  },
  {
   "cell_type": "code",
   "execution_count": 6,
   "id": "f5aa65ca-be5b-49ec-876a-bf18829e004d",
   "metadata": {},
   "outputs": [],
   "source": [
    "stats['쓰레기통'] = stats['쓰레기통'].astype(int)"
   ]
  },
  {
   "cell_type": "code",
   "execution_count": 7,
   "id": "ff07a32f-4cf3-4569-b25c-e41087de5e40",
   "metadata": {},
   "outputs": [
    {
     "data": {
      "text/html": [
       "<div>\n",
       "<style scoped>\n",
       "    .dataframe tbody tr th:only-of-type {\n",
       "        vertical-align: middle;\n",
       "    }\n",
       "\n",
       "    .dataframe tbody tr th {\n",
       "        vertical-align: top;\n",
       "    }\n",
       "\n",
       "    .dataframe thead th {\n",
       "        text-align: right;\n",
       "    }\n",
       "</style>\n",
       "<table border=\"1\" class=\"dataframe\">\n",
       "  <thead>\n",
       "    <tr style=\"text-align: right;\">\n",
       "      <th></th>\n",
       "      <th>구</th>\n",
       "      <th>방문자수</th>\n",
       "      <th>일별방문자수</th>\n",
       "    </tr>\n",
       "  </thead>\n",
       "  <tbody>\n",
       "    <tr>\n",
       "      <th>0</th>\n",
       "      <td>도봉구</td>\n",
       "      <td>3396167</td>\n",
       "      <td>113205</td>\n",
       "    </tr>\n",
       "    <tr>\n",
       "      <th>1</th>\n",
       "      <td>동작구</td>\n",
       "      <td>4946311</td>\n",
       "      <td>164877</td>\n",
       "    </tr>\n",
       "    <tr>\n",
       "      <th>2</th>\n",
       "      <td>은평구</td>\n",
       "      <td>17056</td>\n",
       "      <td>568</td>\n",
       "    </tr>\n",
       "    <tr>\n",
       "      <th>3</th>\n",
       "      <td>관악구</td>\n",
       "      <td>1769582</td>\n",
       "      <td>58986</td>\n",
       "    </tr>\n",
       "    <tr>\n",
       "      <th>4</th>\n",
       "      <td>강동구</td>\n",
       "      <td>2906029</td>\n",
       "      <td>96867</td>\n",
       "    </tr>\n",
       "  </tbody>\n",
       "</table>\n",
       "</div>"
      ],
      "text/plain": [
       "     구     방문자수  일별방문자수\n",
       "0  도봉구  3396167  113205\n",
       "1  동작구  4946311  164877\n",
       "2  은평구    17056     568\n",
       "3  관악구  1769582   58986\n",
       "4  강동구  2906029   96867"
      ]
     },
     "execution_count": 7,
     "metadata": {},
     "output_type": "execute_result"
    }
   ],
   "source": [
    "visitor.head()"
   ]
  },
  {
   "cell_type": "code",
   "execution_count": 8,
   "id": "0af1ced8-644f-4fc5-8f42-6a51b0799964",
   "metadata": {},
   "outputs": [],
   "source": [
    "stats = pd.merge(stats,visitor,on = '구')"
   ]
  },
  {
   "cell_type": "code",
   "execution_count": 9,
   "id": "5a3aeda0-239c-44ea-9804-68911339a1dc",
   "metadata": {},
   "outputs": [
    {
     "data": {
      "text/html": [
       "<div>\n",
       "<style scoped>\n",
       "    .dataframe tbody tr th:only-of-type {\n",
       "        vertical-align: middle;\n",
       "    }\n",
       "\n",
       "    .dataframe tbody tr th {\n",
       "        vertical-align: top;\n",
       "    }\n",
       "\n",
       "    .dataframe thead th {\n",
       "        text-align: right;\n",
       "    }\n",
       "</style>\n",
       "<table border=\"1\" class=\"dataframe\">\n",
       "  <thead>\n",
       "    <tr style=\"text-align: right;\">\n",
       "      <th></th>\n",
       "      <th>구</th>\n",
       "      <th>인구</th>\n",
       "      <th>면적</th>\n",
       "      <th>인구밀도</th>\n",
       "      <th>쓰레기통23</th>\n",
       "      <th>쓰레기통</th>\n",
       "      <th>방문자수</th>\n",
       "      <th>일별방문자수</th>\n",
       "    </tr>\n",
       "  </thead>\n",
       "  <tbody>\n",
       "    <tr>\n",
       "      <th>0</th>\n",
       "      <td>강남구</td>\n",
       "      <td>564280</td>\n",
       "      <td>39.50</td>\n",
       "      <td>14285.6</td>\n",
       "      <td>974</td>\n",
       "      <td>976</td>\n",
       "      <td>4823037</td>\n",
       "      <td>160767</td>\n",
       "    </tr>\n",
       "    <tr>\n",
       "      <th>1</th>\n",
       "      <td>강동구</td>\n",
       "      <td>469464</td>\n",
       "      <td>24.59</td>\n",
       "      <td>19091.7</td>\n",
       "      <td>52</td>\n",
       "      <td>52</td>\n",
       "      <td>2906029</td>\n",
       "      <td>96867</td>\n",
       "    </tr>\n",
       "    <tr>\n",
       "      <th>2</th>\n",
       "      <td>강서구</td>\n",
       "      <td>563515</td>\n",
       "      <td>41.45</td>\n",
       "      <td>13595.1</td>\n",
       "      <td>315</td>\n",
       "      <td>315</td>\n",
       "      <td>1303126</td>\n",
       "      <td>43437</td>\n",
       "    </tr>\n",
       "    <tr>\n",
       "      <th>3</th>\n",
       "      <td>관악구</td>\n",
       "      <td>496469</td>\n",
       "      <td>29.57</td>\n",
       "      <td>16789.6</td>\n",
       "      <td>108</td>\n",
       "      <td>212</td>\n",
       "      <td>1769582</td>\n",
       "      <td>58986</td>\n",
       "    </tr>\n",
       "    <tr>\n",
       "      <th>4</th>\n",
       "      <td>관악구</td>\n",
       "      <td>496469</td>\n",
       "      <td>29.57</td>\n",
       "      <td>16789.6</td>\n",
       "      <td>108</td>\n",
       "      <td>212</td>\n",
       "      <td>1545457</td>\n",
       "      <td>51515</td>\n",
       "    </tr>\n",
       "  </tbody>\n",
       "</table>\n",
       "</div>"
      ],
      "text/plain": [
       "     구      인구     면적     인구밀도  쓰레기통23  쓰레기통     방문자수  일별방문자수\n",
       "0  강남구  564280  39.50  14285.6     974   976  4823037  160767\n",
       "1  강동구  469464  24.59  19091.7      52    52  2906029   96867\n",
       "2  강서구  563515  41.45  13595.1     315   315  1303126   43437\n",
       "3  관악구  496469  29.57  16789.6     108   212  1769582   58986\n",
       "4  관악구  496469  29.57  16789.6     108   212  1545457   51515"
      ]
     },
     "execution_count": 9,
     "metadata": {},
     "output_type": "execute_result"
    }
   ],
   "source": [
    "stats.head()"
   ]
  },
  {
   "cell_type": "code",
   "execution_count": 10,
   "id": "afd3ed89-a2ad-4132-9737-968fce0026cd",
   "metadata": {},
   "outputs": [
    {
     "data": {
      "text/html": [
       "<div>\n",
       "<style scoped>\n",
       "    .dataframe tbody tr th:only-of-type {\n",
       "        vertical-align: middle;\n",
       "    }\n",
       "\n",
       "    .dataframe tbody tr th {\n",
       "        vertical-align: top;\n",
       "    }\n",
       "\n",
       "    .dataframe thead th {\n",
       "        text-align: right;\n",
       "    }\n",
       "</style>\n",
       "<table border=\"1\" class=\"dataframe\">\n",
       "  <thead>\n",
       "    <tr style=\"text-align: right;\">\n",
       "      <th></th>\n",
       "      <th>구</th>\n",
       "      <th>인구</th>\n",
       "      <th>면적</th>\n",
       "      <th>인구밀도</th>\n",
       "      <th>쓰레기통23</th>\n",
       "      <th>쓰레기통</th>\n",
       "      <th>방문자수</th>\n",
       "      <th>일별방문자수</th>\n",
       "      <th>인구/쓰레기통</th>\n",
       "      <th>면적/쓰레기통</th>\n",
       "      <th>인구밀도/쓰레기통</th>\n",
       "      <th>일별방문자수/쓰레기통</th>\n",
       "    </tr>\n",
       "  </thead>\n",
       "  <tbody>\n",
       "    <tr>\n",
       "      <th>0</th>\n",
       "      <td>강남구</td>\n",
       "      <td>564280</td>\n",
       "      <td>39.50</td>\n",
       "      <td>14285.6</td>\n",
       "      <td>974</td>\n",
       "      <td>976</td>\n",
       "      <td>4823037</td>\n",
       "      <td>160767</td>\n",
       "      <td>578.155738</td>\n",
       "      <td>40.471311</td>\n",
       "      <td>14.636885</td>\n",
       "      <td>164.720287</td>\n",
       "    </tr>\n",
       "    <tr>\n",
       "      <th>1</th>\n",
       "      <td>강동구</td>\n",
       "      <td>469464</td>\n",
       "      <td>24.59</td>\n",
       "      <td>19091.7</td>\n",
       "      <td>52</td>\n",
       "      <td>52</td>\n",
       "      <td>2906029</td>\n",
       "      <td>96867</td>\n",
       "      <td>9028.153846</td>\n",
       "      <td>472.884615</td>\n",
       "      <td>367.148077</td>\n",
       "      <td>1862.826923</td>\n",
       "    </tr>\n",
       "    <tr>\n",
       "      <th>2</th>\n",
       "      <td>강서구</td>\n",
       "      <td>563515</td>\n",
       "      <td>41.45</td>\n",
       "      <td>13595.1</td>\n",
       "      <td>315</td>\n",
       "      <td>315</td>\n",
       "      <td>1303126</td>\n",
       "      <td>43437</td>\n",
       "      <td>1788.936508</td>\n",
       "      <td>131.587302</td>\n",
       "      <td>43.159048</td>\n",
       "      <td>137.895238</td>\n",
       "    </tr>\n",
       "    <tr>\n",
       "      <th>3</th>\n",
       "      <td>관악구</td>\n",
       "      <td>496469</td>\n",
       "      <td>29.57</td>\n",
       "      <td>16789.6</td>\n",
       "      <td>108</td>\n",
       "      <td>212</td>\n",
       "      <td>1769582</td>\n",
       "      <td>58986</td>\n",
       "      <td>2341.834906</td>\n",
       "      <td>139.481132</td>\n",
       "      <td>79.196226</td>\n",
       "      <td>278.235849</td>\n",
       "    </tr>\n",
       "    <tr>\n",
       "      <th>4</th>\n",
       "      <td>관악구</td>\n",
       "      <td>496469</td>\n",
       "      <td>29.57</td>\n",
       "      <td>16789.6</td>\n",
       "      <td>108</td>\n",
       "      <td>212</td>\n",
       "      <td>1545457</td>\n",
       "      <td>51515</td>\n",
       "      <td>2341.834906</td>\n",
       "      <td>139.481132</td>\n",
       "      <td>79.196226</td>\n",
       "      <td>242.995283</td>\n",
       "    </tr>\n",
       "  </tbody>\n",
       "</table>\n",
       "</div>"
      ],
      "text/plain": [
       "     구      인구     면적     인구밀도  쓰레기통23  쓰레기통     방문자수  일별방문자수      인구/쓰레기통  \\\n",
       "0  강남구  564280  39.50  14285.6     974   976  4823037  160767   578.155738   \n",
       "1  강동구  469464  24.59  19091.7      52    52  2906029   96867  9028.153846   \n",
       "2  강서구  563515  41.45  13595.1     315   315  1303126   43437  1788.936508   \n",
       "3  관악구  496469  29.57  16789.6     108   212  1769582   58986  2341.834906   \n",
       "4  관악구  496469  29.57  16789.6     108   212  1545457   51515  2341.834906   \n",
       "\n",
       "      면적/쓰레기통   인구밀도/쓰레기통  일별방문자수/쓰레기통  \n",
       "0   40.471311   14.636885   164.720287  \n",
       "1  472.884615  367.148077  1862.826923  \n",
       "2  131.587302   43.159048   137.895238  \n",
       "3  139.481132   79.196226   278.235849  \n",
       "4  139.481132   79.196226   242.995283  "
      ]
     },
     "execution_count": 10,
     "metadata": {},
     "output_type": "execute_result"
    }
   ],
   "source": [
    "stats['인구/쓰레기통'] = stats['인구']/stats['쓰레기통']\n",
    "stats['면적/쓰레기통'] = stats['면적']/stats['쓰레기통']*1000\n",
    "stats['인구밀도/쓰레기통'] = stats['인구밀도']/stats['쓰레기통']\n",
    "stats['일별방문자수/쓰레기통'] = stats['일별방문자수']/stats['쓰레기통']\n",
    "stats.head()"
   ]
  },
  {
   "cell_type": "code",
   "execution_count": 18,
   "id": "75efefea-56ec-4c08-95ed-b0debbc846ea",
   "metadata": {},
   "outputs": [
    {
     "name": "stderr",
     "output_type": "stream",
     "text": [
      "<>:5: SyntaxWarning: invalid escape sequence '\\W'\n",
      "<>:5: SyntaxWarning: invalid escape sequence '\\W'\n",
      "C:\\Users\\User\\AppData\\Local\\Temp\\ipykernel_25052\\1548906271.py:5: SyntaxWarning: invalid escape sequence '\\W'\n",
      "  font_path = 'C:\\Windows\\Fonts\\malgun.ttf'\n"
     ]
    }
   ],
   "source": [
    "def graph_bar(x,y):\n",
    "    import matplotlib.font_manager as fm\n",
    "\n",
    "# 나눔글꼴 경로 설정\n",
    "    font_path = 'C:\\Windows\\Fonts\\malgun.ttf'\n",
    "\n",
    "# 폰트 이름 가져오기\n",
    "    font_name = fm.FontProperties(fname=font_path).get_name()\n",
    "\n",
    "# 폰트 설정\n",
    "    plt.rc('font', family=font_name)\n",
    "# 출처: https://giveme-happyending.tistory.com/168 [소연의_개발일지:티스토리]\n",
    "\n",
    "    plt.figure(figsize=(20, 6))\n",
    "    plt.bar(x, y, alpha=0.7)\n",
    "    plt.xlabel('District')\n",
    "    plt.show()"
   ]
  },
  {
   "cell_type": "code",
   "execution_count": 12,
   "id": "70e1ed0e-17cb-4e2f-a598-e359401d1bc4",
   "metadata": {},
   "outputs": [],
   "source": [
    "# graph_bar(x=stats['구'],y=stats['인구/쓰레기통'])"
   ]
  },
  {
   "cell_type": "code",
   "execution_count": 32,
   "id": "80c6cd99-ba2c-4438-ab09-73cb7ab1453f",
   "metadata": {},
   "outputs": [
    {
     "name": "stderr",
     "output_type": "stream",
     "text": [
      "<>:4: SyntaxWarning: invalid escape sequence '\\W'\n",
      "<>:4: SyntaxWarning: invalid escape sequence '\\W'\n",
      "C:\\Users\\User\\AppData\\Local\\Temp\\ipykernel_25052\\3698675070.py:4: SyntaxWarning: invalid escape sequence '\\W'\n",
      "  font_path = 'C:\\Windows\\Fonts\\malgun.ttf'\n"
     ]
    },
    {
     "data": {
      "image/png": "[encoded data removed]",
      "text/plain": [
       "<Figure size 2000x600 with 1 Axes>"
      ]
     },
     "metadata": {},
     "output_type": "display_data"
    }
   ],
   "source": [
    "import matplotlib.font_manager as fm\n",
    "\n",
    "# 나눔글꼴 경로 설정\n",
    "font_path = 'C:\\Windows\\Fonts\\malgun.ttf'\n",
    "\n",
    "# 폰트 이름 가져오기\n",
    "font_name = fm.FontProperties(fname=font_path).get_name()\n",
    "\n",
    "# 폰트 설정\n",
    "plt.rc('font', family=font_name)\n",
    "# 출처: https://giveme-happyending.tistory.com/168 [소연의_개발일지:티스토리]\n",
    "\n",
    "plt.figure(figsize=(20, 6))\n",
    "plt.bar(stats['구'],stats['인구/쓰레기통'], alpha=0.7)\n",
    "plt.title('구 별 쓰레기통 사용 인구')\n",
    "plt.xlabel('구')\n",
    "plt.ylabel('쓰레기통 사용 인구')\n",
    "plt.savefig('인구쓰레기통.png')\n",
    "plt.show()\n"
   ]
  },
  {
   "cell_type": "code",
   "execution_count": 20,
   "id": "fead4cf4-a7b7-47e0-a686-c1d3a23c4c05",
   "metadata": {},
   "outputs": [
    {
     "data": {
      "image/png": "[encoded data removed]",
      "text/plain": [
       "<Figure size 2000x600 with 1 Axes>"
      ]
     },
     "metadata": {},
     "output_type": "display_data"
    }
   ],
   "source": [
    "graph_bar(x=stats['구'],y=stats['면적/쓰레기통'])"
   ]
  },
  {
   "cell_type": "code",
   "execution_count": 22,
   "id": "c1839dc5-449a-4ba3-9925-21029472017d",
   "metadata": {},
   "outputs": [
    {
     "data": {
      "image/png": "[encoded data removed]",
      "text/plain": [
       "<Figure size 2000x600 with 1 Axes>"
      ]
     },
     "metadata": {},
     "output_type": "display_data"
    }
   ],
   "source": [
    "graph_bar(x=stats['구'],y=stats['인구밀도/쓰레기통'])"
   ]
  },
  {
   "cell_type": "code",
   "execution_count": 24,
   "id": "d34afe00-14c2-43d7-8fa4-5231995a6957",
   "metadata": {},
   "outputs": [
    {
     "data": {
      "image/png": "[encoded data removed]",
      "text/plain": [
       "<Figure size 2000x600 with 1 Axes>"
      ]
     },
     "metadata": {},
     "output_type": "display_data"
    }
   ],
   "source": [
    "graph_bar(x=stats['구'],y=stats['일별방문자수/쓰레기통'])"
   ]
  },
  {
   "cell_type": "code",
   "execution_count": null,
   "id": "1f19af6d-bbb5-464a-b0e8-a62f024dcb87",
   "metadata": {},
   "outputs": [],
   "source": [
    "stats.to_csv('stats.')"
   ]
  }
 ],
 "metadata": {
  "kernelspec": {
   "display_name": "Python 3 (ipykernel)",
   "language": "python",
   "name": "python3"
  },
  "language_info": {
   "codemirror_mode": {
    "name": "ipython",
    "version": 3
   },
   "file_extension": ".py",
   "mimetype": "text/x-python",
   "name": "python",
   "nbconvert_exporter": "python",
   "pygments_lexer": "ipython3",
   "version": "3.12.4"
  }
 },
 "nbformat": 4,
 "nbformat_minor": 5
}
