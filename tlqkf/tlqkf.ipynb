{
 "cells": [
  {
   "cell_type": "code",
   "execution_count": 3,
   "metadata": {},
   "outputs": [],
   "source": [
    "import geopandas as gpd\n",
    "temp = gpd.read_file('rc_trash_bins_with_final_address.geojson')\n",
    "temp.head()\n",
    "drop_cols = ['latitude','longitude','score','bunji_address','road_address']\n",
    "temp1 = temp.drop(columns = drop_cols).copy()\n",
    "temp1.head()\n",
    "temp1.to_file('rotlqkf.geojson',driver=\"GeoJSON\")\n",
    "temp2 = gpd.read_file('rotlqkf.geojson')"
   ]
  },
  {
   "cell_type": "code",
   "execution_count": 4,
   "metadata": {},
   "outputs": [
    {
     "data": {
      "text/html": [
       "<div>\n",
       "<style scoped>\n",
       "    .dataframe tbody tr th:only-of-type {\n",
       "        vertical-align: middle;\n",
       "    }\n",
       "\n",
       "    .dataframe tbody tr th {\n",
       "        vertical-align: top;\n",
       "    }\n",
       "\n",
       "    .dataframe thead th {\n",
       "        text-align: right;\n",
       "    }\n",
       "</style>\n",
       "<table border=\"1\" class=\"dataframe\">\n",
       "  <thead>\n",
       "    <tr style=\"text-align: right;\">\n",
       "      <th></th>\n",
       "      <th>SIG_KOR_NM</th>\n",
       "      <th>주소</th>\n",
       "      <th>점수</th>\n",
       "      <th>geometry</th>\n",
       "    </tr>\n",
       "  </thead>\n",
       "  <tbody>\n",
       "    <tr>\n",
       "      <th>0</th>\n",
       "      <td>금천구</td>\n",
       "      <td>서울 금천구 독산동 1082-4</td>\n",
       "      <td>0.603</td>\n",
       "      <td>POINT (126.89051 37.4667)</td>\n",
       "    </tr>\n",
       "    <tr>\n",
       "      <th>1</th>\n",
       "      <td>영등포구</td>\n",
       "      <td>서울 영등포구 신길동 400-1</td>\n",
       "      <td>0.579</td>\n",
       "      <td>POINT (126.90472 37.50208)</td>\n",
       "    </tr>\n",
       "    <tr>\n",
       "      <th>2</th>\n",
       "      <td>광진구</td>\n",
       "      <td>서울 광진구 자양번영로 8-2</td>\n",
       "      <td>0.575</td>\n",
       "      <td>POINT (127.07459 37.52994)</td>\n",
       "    </tr>\n",
       "    <tr>\n",
       "      <th>3</th>\n",
       "      <td>서초구</td>\n",
       "      <td>서울 서초구 동산로13길 16</td>\n",
       "      <td>0.559</td>\n",
       "      <td>POINT (127.04498 37.47248)</td>\n",
       "    </tr>\n",
       "    <tr>\n",
       "      <th>4</th>\n",
       "      <td>강남구</td>\n",
       "      <td>서울 강남구 일원동 706-5</td>\n",
       "      <td>0.546</td>\n",
       "      <td>POINT (127.08167 37.49149)</td>\n",
       "    </tr>\n",
       "  </tbody>\n",
       "</table>\n",
       "</div>"
      ],
      "text/plain": [
       "  SIG_KOR_NM                 주소     점수                    geometry\n",
       "0        금천구  서울 금천구 독산동 1082-4  0.603   POINT (126.89051 37.4667)\n",
       "1       영등포구  서울 영등포구 신길동 400-1  0.579  POINT (126.90472 37.50208)\n",
       "2        광진구   서울 광진구 자양번영로 8-2  0.575  POINT (127.07459 37.52994)\n",
       "3        서초구   서울 서초구 동산로13길 16  0.559  POINT (127.04498 37.47248)\n",
       "4        강남구   서울 강남구 일원동 706-5  0.546  POINT (127.08167 37.49149)"
      ]
     },
     "execution_count": 4,
     "metadata": {},
     "output_type": "execute_result"
    }
   ],
   "source": [
    "temp2.head()"
   ]
  }
 ],
 "metadata": {
  "kernelspec": {
   "display_name": "base",
   "language": "python",
   "name": "python3"
  },
  "language_info": {
   "codemirror_mode": {
    "name": "ipython",
    "version": 3
   },
   "file_extension": ".py",
   "mimetype": "text/x-python",
   "name": "python",
   "nbconvert_exporter": "python",
   "pygments_lexer": "ipython3",
   "version": "3.12.4"
  }
 },
 "nbformat": 4,
 "nbformat_minor": 2
}
